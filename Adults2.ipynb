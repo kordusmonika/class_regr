{
  "nbformat": 4,
  "nbformat_minor": 0,
  "metadata": {
    "colab": {
      "name": "Adults2.ipynb",
      "provenance": [],
      "collapsed_sections": [],
      "mount_file_id": "1hwHLF4DDK-jQ-ED5doNPFo-ZbmYaCtxM",
      "authorship_tag": "ABX9TyOcQBREOxQ2CSSCj89U86ep",
      "include_colab_link": true
    },
    "kernelspec": {
      "name": "python3",
      "display_name": "Python 3"
    }
  },
  "cells": [
    {
      "cell_type": "markdown",
      "metadata": {
        "id": "view-in-github",
        "colab_type": "text"
      },
      "source": [
        "<a href=\"https://colab.research.google.com/github/kordusmonika/class_regr/blob/master/Adults2.ipynb\" target=\"_parent\"><img src=\"https://colab.research.google.com/assets/colab-badge.svg\" alt=\"Open In Colab\"/></a>"
      ]
    },
    {
      "cell_type": "code",
      "metadata": {
        "id": "OM-aGMaWEysE",
        "colab_type": "code",
        "colab": {}
      },
      "source": [
        "!pip install qgrid\n",
        "!pip install --upgrade tables\n",
        "!pip install ensemble\n",
        "!pip install scikit-plot"
      ],
      "execution_count": 0,
      "outputs": []
    },
    {
      "cell_type": "code",
      "metadata": {
        "id": "E7cgTlupBdp1",
        "colab_type": "code",
        "colab": {}
      },
      "source": [
        "import pandas as pd\n",
        "import numpy as np\n",
        "np.random.seed(2019)\n",
        "\n",
        "from sklearn.metrics import accuracy_score\n",
        "from sklearn.model_selection import train_test_split\n",
        "\n",
        "from sklearn.dummy import DummyClassifier\n",
        "from sklearn.linear_model import LogisticRegression\n",
        "from sklearn.tree import DecisionTreeClassifier\n",
        "from sklearn.ensemble import RandomForestClassifier \n",
        "\n",
        "from scikitplot.estimators import plot_learning_curve\n",
        "\n",
        "import xgboost as xgb\n",
        "\n",
        "from functools import partial\n",
        "from hyperopt import hp, fmin, tpe, STATUS_OK, Trials\n",
        "from sklearn.model_selection import GridSearchCV\n",
        "\n",
        "import matplotlib.pyplot as plt\n",
        "import seaborn as sns\n",
        "%matplotlib inline"
      ],
      "execution_count": 0,
      "outputs": []
    },
    {
      "cell_type": "markdown",
      "metadata": {
        "id": "JySipamXE4lr",
        "colab_type": "text"
      },
      "source": [
        "#Upload dataset"
      ]
    },
    {
      "cell_type": "code",
      "metadata": {
        "id": "ugP2kBlN0iB8",
        "colab_type": "code",
        "outputId": "08e2d3d5-2d5c-425f-b122-a0352c182178",
        "colab": {
          "base_uri": "https://localhost:8080/",
          "height": 34
        }
      },
      "source": [
        "pwd"
      ],
      "execution_count": 0,
      "outputs": [
        {
          "output_type": "execute_result",
          "data": {
            "text/plain": [
              "'/content/drive/My Drive/Colab Notebooks/class_regr/data'"
            ]
          },
          "metadata": {
            "tags": []
          },
          "execution_count": 14
        }
      ]
    },
    {
      "cell_type": "code",
      "metadata": {
        "id": "Clf3j4lFE7QM",
        "colab_type": "code",
        "colab": {}
      },
      "source": [
        "df = pd.read_hdf('/content/drive/My Drive/Colab Notebooks/class_regr/data/train.adult (1).h5')"
      ],
      "execution_count": 0,
      "outputs": []
    },
    {
      "cell_type": "code",
      "metadata": {
        "id": "ID9mirbLFHwC",
        "colab_type": "code",
        "outputId": "e0aa3985-6f95-4066-880a-4cc44c5b315e",
        "colab": {
          "base_uri": "https://localhost:8080/",
          "height": 34
        }
      },
      "source": [
        "df.shape"
      ],
      "execution_count": 0,
      "outputs": [
        {
          "output_type": "execute_result",
          "data": {
            "text/plain": [
              "(32561, 15)"
            ]
          },
          "metadata": {
            "tags": []
          },
          "execution_count": 15
        }
      ]
    },
    {
      "cell_type": "code",
      "metadata": {
        "id": "XTJmCsd1Hymm",
        "colab_type": "code",
        "outputId": "277e51ad-a15e-4492-b215-13a631bcfcea",
        "colab": {
          "base_uri": "https://localhost:8080/",
          "height": 391
        }
      },
      "source": [
        "df.info()"
      ],
      "execution_count": 0,
      "outputs": [
        {
          "output_type": "stream",
          "text": [
            "<class 'pandas.core.frame.DataFrame'>\n",
            "Int64Index: 32561 entries, 0 to 32560\n",
            "Data columns (total 15 columns):\n",
            " #   Column          Non-Null Count  Dtype \n",
            "---  ------          --------------  ----- \n",
            " 0   Age             32561 non-null  int8  \n",
            " 1   Workclass       30725 non-null  object\n",
            " 2   fnlwgt          32561 non-null  int64 \n",
            " 3   Education       32561 non-null  object\n",
            " 4   Education-Num   32561 non-null  int64 \n",
            " 5   Martial Status  32561 non-null  object\n",
            " 6   Occupation      30718 non-null  object\n",
            " 7   Relationship    32561 non-null  object\n",
            " 8   Race            32561 non-null  object\n",
            " 9   Sex             32561 non-null  bool  \n",
            " 10  Capital Gain    32561 non-null  int16 \n",
            " 11  Capital Loss    32561 non-null  int16 \n",
            " 12  Hours per week  32561 non-null  int8  \n",
            " 13  Country         31978 non-null  object\n",
            " 14  Target          32561 non-null  object\n",
            "dtypes: bool(1), int16(2), int64(2), int8(2), object(8)\n",
            "memory usage: 2.9+ MB\n"
          ],
          "name": "stdout"
        }
      ]
    },
    {
      "cell_type": "code",
      "metadata": {
        "id": "s_WCvWnmH2XQ",
        "colab_type": "code",
        "outputId": "f2b53127-0a57-40b2-c42b-c4328375825f",
        "colab": {
          "base_uri": "https://localhost:8080/",
          "height": 266
        }
      },
      "source": [
        "df.corr()"
      ],
      "execution_count": 0,
      "outputs": [
        {
          "output_type": "execute_result",
          "data": {
            "text/html": [
              "<div>\n",
              "<style scoped>\n",
              "    .dataframe tbody tr th:only-of-type {\n",
              "        vertical-align: middle;\n",
              "    }\n",
              "\n",
              "    .dataframe tbody tr th {\n",
              "        vertical-align: top;\n",
              "    }\n",
              "\n",
              "    .dataframe thead th {\n",
              "        text-align: right;\n",
              "    }\n",
              "</style>\n",
              "<table border=\"1\" class=\"dataframe\">\n",
              "  <thead>\n",
              "    <tr style=\"text-align: right;\">\n",
              "      <th></th>\n",
              "      <th>Age</th>\n",
              "      <th>fnlwgt</th>\n",
              "      <th>Education-Num</th>\n",
              "      <th>Sex</th>\n",
              "      <th>Capital Gain</th>\n",
              "      <th>Capital Loss</th>\n",
              "      <th>Hours per week</th>\n",
              "    </tr>\n",
              "  </thead>\n",
              "  <tbody>\n",
              "    <tr>\n",
              "      <th>Age</th>\n",
              "      <td>1.000000</td>\n",
              "      <td>-0.076646</td>\n",
              "      <td>0.036527</td>\n",
              "      <td>0.088832</td>\n",
              "      <td>0.064301</td>\n",
              "      <td>0.057775</td>\n",
              "      <td>0.068756</td>\n",
              "    </tr>\n",
              "    <tr>\n",
              "      <th>fnlwgt</th>\n",
              "      <td>-0.076646</td>\n",
              "      <td>1.000000</td>\n",
              "      <td>-0.043195</td>\n",
              "      <td>0.026858</td>\n",
              "      <td>-0.007000</td>\n",
              "      <td>-0.010252</td>\n",
              "      <td>-0.018768</td>\n",
              "    </tr>\n",
              "    <tr>\n",
              "      <th>Education-Num</th>\n",
              "      <td>0.036527</td>\n",
              "      <td>-0.043195</td>\n",
              "      <td>1.000000</td>\n",
              "      <td>0.012280</td>\n",
              "      <td>0.062300</td>\n",
              "      <td>0.079923</td>\n",
              "      <td>0.148123</td>\n",
              "    </tr>\n",
              "    <tr>\n",
              "      <th>Sex</th>\n",
              "      <td>0.088832</td>\n",
              "      <td>0.026858</td>\n",
              "      <td>0.012280</td>\n",
              "      <td>1.000000</td>\n",
              "      <td>0.028219</td>\n",
              "      <td>0.045567</td>\n",
              "      <td>0.229309</td>\n",
              "    </tr>\n",
              "    <tr>\n",
              "      <th>Capital Gain</th>\n",
              "      <td>0.064301</td>\n",
              "      <td>-0.007000</td>\n",
              "      <td>0.062300</td>\n",
              "      <td>0.028219</td>\n",
              "      <td>1.000000</td>\n",
              "      <td>-0.027282</td>\n",
              "      <td>0.031964</td>\n",
              "    </tr>\n",
              "    <tr>\n",
              "      <th>Capital Loss</th>\n",
              "      <td>0.057775</td>\n",
              "      <td>-0.010252</td>\n",
              "      <td>0.079923</td>\n",
              "      <td>0.045567</td>\n",
              "      <td>-0.027282</td>\n",
              "      <td>1.000000</td>\n",
              "      <td>0.054256</td>\n",
              "    </tr>\n",
              "    <tr>\n",
              "      <th>Hours per week</th>\n",
              "      <td>0.068756</td>\n",
              "      <td>-0.018768</td>\n",
              "      <td>0.148123</td>\n",
              "      <td>0.229309</td>\n",
              "      <td>0.031964</td>\n",
              "      <td>0.054256</td>\n",
              "      <td>1.000000</td>\n",
              "    </tr>\n",
              "  </tbody>\n",
              "</table>\n",
              "</div>"
            ],
            "text/plain": [
              "                     Age    fnlwgt  ...  Capital Loss  Hours per week\n",
              "Age             1.000000 -0.076646  ...      0.057775        0.068756\n",
              "fnlwgt         -0.076646  1.000000  ...     -0.010252       -0.018768\n",
              "Education-Num   0.036527 -0.043195  ...      0.079923        0.148123\n",
              "Sex             0.088832  0.026858  ...      0.045567        0.229309\n",
              "Capital Gain    0.064301 -0.007000  ...     -0.027282        0.031964\n",
              "Capital Loss    0.057775 -0.010252  ...      1.000000        0.054256\n",
              "Hours per week  0.068756 -0.018768  ...      0.054256        1.000000\n",
              "\n",
              "[7 rows x 7 columns]"
            ]
          },
          "metadata": {
            "tags": []
          },
          "execution_count": 17
        }
      ]
    },
    {
      "cell_type": "code",
      "metadata": {
        "id": "iSVjx9N7IdPX",
        "colab_type": "code",
        "outputId": "ed05d78e-d693-4987-811f-181801174705",
        "colab": {
          "base_uri": "https://localhost:8080/",
          "height": 337
        }
      },
      "source": [
        "sns.heatmap(df.corr(), vmax=1. , vmin=-1., annot=True, linewidths=.8, cmap=\"YlGnBu\");"
      ],
      "execution_count": 0,
      "outputs": [
        {
          "output_type": "display_data",
          "data": {
            "image/png": "[encoded data removed]",
            "text/plain": [
              "<Figure size 432x288 with 2 Axes>"
            ]
          },
          "metadata": {
            "tags": [],
            "needs_background": "light"
          }
        }
      ]
    },
    {
      "cell_type": "code",
      "metadata": {
        "id": "w_MaPJRrH6U6",
        "colab_type": "code",
        "outputId": "7a0e47c1-fe6f-48e4-c2ff-636536aa2c4e",
        "colab": {
          "base_uri": "https://localhost:8080/",
          "height": 297
        }
      },
      "source": [
        "df.describe()"
      ],
      "execution_count": 0,
      "outputs": [
        {
          "output_type": "execute_result",
          "data": {
            "text/html": [
              "<div>\n",
              "<style scoped>\n",
              "    .dataframe tbody tr th:only-of-type {\n",
              "        vertical-align: middle;\n",
              "    }\n",
              "\n",
              "    .dataframe tbody tr th {\n",
              "        vertical-align: top;\n",
              "    }\n",
              "\n",
              "    .dataframe thead th {\n",
              "        text-align: right;\n",
              "    }\n",
              "</style>\n",
              "<table border=\"1\" class=\"dataframe\">\n",
              "  <thead>\n",
              "    <tr style=\"text-align: right;\">\n",
              "      <th></th>\n",
              "      <th>Age</th>\n",
              "      <th>fnlwgt</th>\n",
              "      <th>Education-Num</th>\n",
              "      <th>Capital Gain</th>\n",
              "      <th>Capital Loss</th>\n",
              "      <th>Hours per week</th>\n",
              "    </tr>\n",
              "  </thead>\n",
              "  <tbody>\n",
              "    <tr>\n",
              "      <th>count</th>\n",
              "      <td>32561.000000</td>\n",
              "      <td>3.256100e+04</td>\n",
              "      <td>32561.000000</td>\n",
              "      <td>32561.000000</td>\n",
              "      <td>32561.000000</td>\n",
              "      <td>32561.000000</td>\n",
              "    </tr>\n",
              "    <tr>\n",
              "      <th>mean</th>\n",
              "      <td>38.581647</td>\n",
              "      <td>1.897784e+05</td>\n",
              "      <td>10.080679</td>\n",
              "      <td>423.516600</td>\n",
              "      <td>87.303830</td>\n",
              "      <td>40.437456</td>\n",
              "    </tr>\n",
              "    <tr>\n",
              "      <th>std</th>\n",
              "      <td>13.640433</td>\n",
              "      <td>1.055500e+05</td>\n",
              "      <td>2.572720</td>\n",
              "      <td>3363.342471</td>\n",
              "      <td>402.960219</td>\n",
              "      <td>12.347429</td>\n",
              "    </tr>\n",
              "    <tr>\n",
              "      <th>min</th>\n",
              "      <td>17.000000</td>\n",
              "      <td>1.228500e+04</td>\n",
              "      <td>1.000000</td>\n",
              "      <td>-31441.000000</td>\n",
              "      <td>0.000000</td>\n",
              "      <td>1.000000</td>\n",
              "    </tr>\n",
              "    <tr>\n",
              "      <th>25%</th>\n",
              "      <td>28.000000</td>\n",
              "      <td>1.178270e+05</td>\n",
              "      <td>9.000000</td>\n",
              "      <td>0.000000</td>\n",
              "      <td>0.000000</td>\n",
              "      <td>40.000000</td>\n",
              "    </tr>\n",
              "    <tr>\n",
              "      <th>50%</th>\n",
              "      <td>37.000000</td>\n",
              "      <td>1.783560e+05</td>\n",
              "      <td>10.000000</td>\n",
              "      <td>0.000000</td>\n",
              "      <td>0.000000</td>\n",
              "      <td>40.000000</td>\n",
              "    </tr>\n",
              "    <tr>\n",
              "      <th>75%</th>\n",
              "      <td>48.000000</td>\n",
              "      <td>2.370510e+05</td>\n",
              "      <td>12.000000</td>\n",
              "      <td>0.000000</td>\n",
              "      <td>0.000000</td>\n",
              "      <td>45.000000</td>\n",
              "    </tr>\n",
              "    <tr>\n",
              "      <th>max</th>\n",
              "      <td>90.000000</td>\n",
              "      <td>1.484705e+06</td>\n",
              "      <td>16.000000</td>\n",
              "      <td>27828.000000</td>\n",
              "      <td>4356.000000</td>\n",
              "      <td>99.000000</td>\n",
              "    </tr>\n",
              "  </tbody>\n",
              "</table>\n",
              "</div>"
            ],
            "text/plain": [
              "                Age        fnlwgt  ...  Capital Loss  Hours per week\n",
              "count  32561.000000  3.256100e+04  ...  32561.000000    32561.000000\n",
              "mean      38.581647  1.897784e+05  ...     87.303830       40.437456\n",
              "std       13.640433  1.055500e+05  ...    402.960219       12.347429\n",
              "min       17.000000  1.228500e+04  ...      0.000000        1.000000\n",
              "25%       28.000000  1.178270e+05  ...      0.000000       40.000000\n",
              "50%       37.000000  1.783560e+05  ...      0.000000       40.000000\n",
              "75%       48.000000  2.370510e+05  ...      0.000000       45.000000\n",
              "max       90.000000  1.484705e+06  ...   4356.000000       99.000000\n",
              "\n",
              "[8 rows x 6 columns]"
            ]
          },
          "metadata": {
            "tags": []
          },
          "execution_count": 19
        }
      ]
    },
    {
      "cell_type": "code",
      "metadata": {
        "id": "mdF8Sfg4IEry",
        "colab_type": "code",
        "colab": {}
      },
      "source": [
        "# 1. Add Train_cat variable \n",
        "# 2. Delete missing values and replace with -1"
      ],
      "execution_count": 0,
      "outputs": []
    },
    {
      "cell_type": "code",
      "metadata": {
        "id": "BOaJMr4jJjcI",
        "colab_type": "code",
        "outputId": "8b9da5ba-3fc4-4d4d-e497-a5f109e20117",
        "colab": {
          "base_uri": "https://localhost:8080/",
          "height": 68
        }
      },
      "source": [
        "def check_missing_values():\n",
        "  for column in df.columns:\n",
        "    missing = column, df[column].isnull().sum()\n",
        "    if missing[1] == 0:continue\n",
        "\n",
        "    print(missing)\n",
        "\n",
        "check_missing_values()"
      ],
      "execution_count": 0,
      "outputs": [
        {
          "output_type": "stream",
          "text": [
            "('Workclass', 1836)\n",
            "('Occupation', 1843)\n",
            "('Country', 583)\n"
          ],
          "name": "stdout"
        }
      ]
    },
    {
      "cell_type": "code",
      "metadata": {
        "id": "wPbOxE93JvgY",
        "colab_type": "code",
        "colab": {}
      },
      "source": [
        "df = df.fillna(-1)"
      ],
      "execution_count": 0,
      "outputs": []
    },
    {
      "cell_type": "code",
      "metadata": {
        "id": "Kk7q-PFIKhVm",
        "colab_type": "code",
        "colab": {}
      },
      "source": [
        "check_missing_values()"
      ],
      "execution_count": 0,
      "outputs": []
    },
    {
      "cell_type": "markdown",
      "metadata": {
        "id": "tDeAXlz-LEIi",
        "colab_type": "text"
      },
      "source": [
        "#Basic Model ~63%"
      ]
    },
    {
      "cell_type": "code",
      "metadata": {
        "id": "bYU1pP4NLFTS",
        "colab_type": "code",
        "colab": {}
      },
      "source": [
        "df['target_cat'] = (df['Target'] != '<=50K').astype('int8')"
      ],
      "execution_count": 0,
      "outputs": []
    },
    {
      "cell_type": "code",
      "metadata": {
        "id": "m7tZ_KfdMknd",
        "colab_type": "code",
        "outputId": "9b3e0ab8-5d7b-4d0e-ed5f-d00e2892a876",
        "colab": {
          "base_uri": "https://localhost:8080/",
          "height": 88
        }
      },
      "source": [
        "X = df[ ['Age'] ].values\n",
        "y = df['target_cat'].values\n",
        "\n",
        "X_train, X_test, y_train, y_test = train_test_split(X, y, test_size= 0.3)\n",
        "\n",
        "model = DummyClassifier()\n",
        "model.fit(X_train, y_train)\n",
        "y_pred = model.predict(X_test)\n",
        "\n",
        "print(accuracy_score(y_test, y_pred) )"
      ],
      "execution_count": 0,
      "outputs": [
        {
          "output_type": "stream",
          "text": [
            "0.6394717985464223\n"
          ],
          "name": "stdout"
        },
        {
          "output_type": "stream",
          "text": [
            "/usr/local/lib/python3.6/dist-packages/sklearn/dummy.py:132: FutureWarning: The default value of strategy will change from stratified to prior in 0.24.\n",
            "  \"stratified to prior in 0.24.\", FutureWarning)\n"
          ],
          "name": "stderr"
        }
      ]
    },
    {
      "cell_type": "markdown",
      "metadata": {
        "id": "6bqWQjdjN5iB",
        "colab_type": "text"
      },
      "source": [
        "#Feature Engineering"
      ]
    },
    {
      "cell_type": "code",
      "metadata": {
        "id": "u4TvGBHZN6zO",
        "colab_type": "code",
        "colab": {}
      },
      "source": [
        "# 3. Transform categorical variables to numerical ones\n",
        "\n",
        "cat_feats = df.select_dtypes(include=[np.object] ).columns\n",
        "\n",
        "for cat_feat in cat_feats:\n",
        "  df['{0}_cat'.format(cat_feat)] = pd.factorize( df[cat_feat] )[0]"
      ],
      "execution_count": 0,
      "outputs": []
    },
    {
      "cell_type": "code",
      "metadata": {
        "id": "uqRaOeXTOrUc",
        "colab_type": "code",
        "outputId": "a050b668-45d0-4913-b199-c30abbbcae64",
        "colab": {
          "base_uri": "https://localhost:8080/",
          "height": 544
        }
      },
      "source": [
        "df.info()"
      ],
      "execution_count": 0,
      "outputs": [
        {
          "output_type": "stream",
          "text": [
            "<class 'pandas.core.frame.DataFrame'>\n",
            "Int64Index: 32561 entries, 0 to 32560\n",
            "Data columns (total 24 columns):\n",
            " #   Column              Non-Null Count  Dtype \n",
            "---  ------              --------------  ----- \n",
            " 0   Age                 32561 non-null  int8  \n",
            " 1   Workclass           32561 non-null  object\n",
            " 2   fnlwgt              32561 non-null  int64 \n",
            " 3   Education           32561 non-null  object\n",
            " 4   Education-Num       32561 non-null  int64 \n",
            " 5   Martial Status      32561 non-null  object\n",
            " 6   Occupation          32561 non-null  object\n",
            " 7   Relationship        32561 non-null  object\n",
            " 8   Race                32561 non-null  object\n",
            " 9   Sex                 32561 non-null  bool  \n",
            " 10  Capital Gain        32561 non-null  int16 \n",
            " 11  Capital Loss        32561 non-null  int16 \n",
            " 12  Hours per week      32561 non-null  int8  \n",
            " 13  Country             32561 non-null  object\n",
            " 14  Target              32561 non-null  object\n",
            " 15  target_cat          32561 non-null  int8  \n",
            " 16  Workclass_cat       32561 non-null  int64 \n",
            " 17  Education_cat       32561 non-null  int64 \n",
            " 18  Martial Status_cat  32561 non-null  int64 \n",
            " 19  Occupation_cat      32561 non-null  int64 \n",
            " 20  Relationship_cat    32561 non-null  int64 \n",
            " 21  Race_cat            32561 non-null  int64 \n",
            " 22  Country_cat         32561 non-null  int64 \n",
            " 23  Target_cat          32561 non-null  int64 \n",
            "dtypes: bool(1), int16(2), int64(10), int8(3), object(8)\n",
            "memory usage: 5.0+ MB\n"
          ],
          "name": "stdout"
        }
      ]
    },
    {
      "cell_type": "code",
      "metadata": {
        "id": "oc8FeeuVOsZY",
        "colab_type": "code",
        "colab": {}
      },
      "source": [
        "#Now we doubled 'target_cat' so we will delete 'Target_cat'\n",
        "del df['Target_cat']"
      ],
      "execution_count": 0,
      "outputs": []
    },
    {
      "cell_type": "code",
      "metadata": {
        "id": "sXolik85PDKd",
        "colab_type": "code",
        "colab": {}
      },
      "source": [
        "#Let's try a model\n",
        "\n",
        "def get_feats(df):\n",
        "  black_list = ['Target', 'target_cat', 'fnlwgt']\n",
        "  feats = df.select_dtypes(include=[np.number] ).columns\n",
        "  feats = [feat for feat in feats if feat not in black_list]\n",
        "\n",
        "  return feats\n",
        "\n",
        "def train_and_predict(X, y, model):\n",
        "  X_train, X_test, y_train, y_test = train_test_split(X, y, test_size=0.3)\n",
        "\n",
        "  model.fit(X_train, y_train)\n",
        "  y_pred = model.predict(X_test)\n",
        "\n",
        "  return accuracy_score(y_test, y_pred)\n"
      ],
      "execution_count": 0,
      "outputs": []
    },
    {
      "cell_type": "markdown",
      "metadata": {
        "id": "hmg5lM0aQ2Ks",
        "colab_type": "text"
      },
      "source": [
        "#Logistic Regression ~78%"
      ]
    },
    {
      "cell_type": "code",
      "metadata": {
        "id": "RQ87fUy4PPQg",
        "colab_type": "code",
        "outputId": "493e647c-c479-4e1e-e8a4-6f1a5eb3ac40",
        "colab": {
          "base_uri": "https://localhost:8080/",
          "height": 190
        }
      },
      "source": [
        "X = df [ get_feats(df) ].values\n",
        "y = df[ 'target_cat'].values\n",
        "\n",
        "train_and_predict(X, y, LogisticRegression(solver='lbfgs'))"
      ],
      "execution_count": 0,
      "outputs": [
        {
          "output_type": "stream",
          "text": [
            "/usr/local/lib/python3.6/dist-packages/sklearn/linear_model/_logistic.py:940: ConvergenceWarning: lbfgs failed to converge (status=1):\n",
            "STOP: TOTAL NO. of ITERATIONS REACHED LIMIT.\n",
            "\n",
            "Increase the number of iterations (max_iter) or scale the data as shown in:\n",
            "    https://scikit-learn.org/stable/modules/preprocessing.html\n",
            "Please also refer to the documentation for alternative solver options:\n",
            "    https://scikit-learn.org/stable/modules/linear_model.html#logistic-regression\n",
            "  extra_warning_msg=_LOGISTIC_SOLVER_CONVERGENCE_MSG)\n"
          ],
          "name": "stderr"
        },
        {
          "output_type": "execute_result",
          "data": {
            "text/plain": [
              "0.7913808987613881"
            ]
          },
          "metadata": {
            "tags": []
          },
          "execution_count": 66
        }
      ]
    },
    {
      "cell_type": "markdown",
      "metadata": {
        "id": "qpZpx7gPSJeW",
        "colab_type": "text"
      },
      "source": [
        "#Visualisation"
      ]
    },
    {
      "cell_type": "code",
      "metadata": {
        "id": "JXNG99BORzk2",
        "colab_type": "code",
        "outputId": "2268edd3-16b4-4789-a914-c95a796edc6d",
        "colab": {
          "base_uri": "https://localhost:8080/",
          "height": 68
        }
      },
      "source": [
        "obj = df.select_dtypes(include=[np.object] ).columns\n",
        "obj"
      ],
      "execution_count": 0,
      "outputs": [
        {
          "output_type": "execute_result",
          "data": {
            "text/plain": [
              "Index(['Workclass', 'Education', 'Martial Status', 'Occupation',\n",
              "       'Relationship', 'Race', 'Country', 'Target'],\n",
              "      dtype='object')"
            ]
          },
          "metadata": {
            "tags": []
          },
          "execution_count": 31
        }
      ]
    },
    {
      "cell_type": "code",
      "metadata": {
        "id": "MFDo_-_NSKqF",
        "colab_type": "code",
        "outputId": "bc472bfc-80d9-4a5d-e14d-1011f957c6ae",
        "colab": {
          "base_uri": "https://localhost:8080/",
          "height": 372
        }
      },
      "source": [
        "plt.figure(figsize=(15,5) )\n",
        "sns.countplot(x = 'Education', data = df);\n",
        "plt.xticks(rotation=90);"
      ],
      "execution_count": 0,
      "outputs": [
        {
          "output_type": "display_data",
          "data": {
            "image/png": "[encoded data removed]",
            "text/plain": [
              "<Figure size 1080x360 with 1 Axes>"
            ]
          },
          "metadata": {
            "tags": [],
            "needs_background": "light"
          }
        }
      ]
    },
    {
      "cell_type": "code",
      "metadata": {
        "id": "thsN5Qp_SlLk",
        "colab_type": "code",
        "outputId": "cfc21f4d-7852-4a6a-d43a-63d8691313ec",
        "colab": {
          "base_uri": "https://localhost:8080/",
          "height": 417
        }
      },
      "source": [
        "plt.figure(figsize=(15,5) )\n",
        "sns.countplot(x ='Martial Status', data = df)\n",
        "plt.xticks(rotation=90);"
      ],
      "execution_count": 0,
      "outputs": [
        {
          "output_type": "display_data",
          "data": {
            "image/png": "[encoded data removed]",
            "text/plain": [
              "<Figure size 1080x360 with 1 Axes>"
            ]
          },
          "metadata": {
            "tags": [],
            "needs_background": "light"
          }
        }
      ]
    },
    {
      "cell_type": "code",
      "metadata": {
        "id": "dWIOkvA9WDyX",
        "colab_type": "code",
        "outputId": "162e9811-fa68-4d3f-88d4-d84cfe834725",
        "colab": {
          "base_uri": "https://localhost:8080/",
          "height": 398
        }
      },
      "source": [
        "plt.figure(figsize=(15,5))\n",
        "sns.countplot(x = 'Occupation', data = df)\n",
        "plt.xticks(rotation=90);"
      ],
      "execution_count": 0,
      "outputs": [
        {
          "output_type": "display_data",
          "data": {
            "image/png": "[encoded data removed]",
            "text/plain": [
              "<Figure size 1080x360 with 1 Axes>"
            ]
          },
          "metadata": {
            "tags": [],
            "needs_background": "light"
          }
        }
      ]
    },
    {
      "cell_type": "markdown",
      "metadata": {
        "id": "qYftZYEEWX1Q",
        "colab_type": "text"
      },
      "source": [
        "#Feature Engineering cd."
      ]
    },
    {
      "cell_type": "code",
      "metadata": {
        "id": "zlXhhNxaWTC7",
        "colab_type": "code",
        "outputId": "d53c6d8c-ae99-4ed0-ea68-ed2ba1108fba",
        "colab": {
          "base_uri": "https://localhost:8080/",
          "height": 68
        }
      },
      "source": [
        "obj"
      ],
      "execution_count": 0,
      "outputs": [
        {
          "output_type": "execute_result",
          "data": {
            "text/plain": [
              "Index(['Workclass', 'Education', 'Martial Status', 'Occupation',\n",
              "       'Relationship', 'Race', 'Country', 'Target'],\n",
              "      dtype='object')"
            ]
          },
          "metadata": {
            "tags": []
          },
          "execution_count": 35
        }
      ]
    },
    {
      "cell_type": "code",
      "metadata": {
        "id": "4O6LTj2HWbdo",
        "colab_type": "code",
        "colab": {}
      },
      "source": [
        "df['Black_husband'] = df[ ['Relationship','Race'] ].apply(lambda x: 1 if (x['Relationship'] == 'Husband') & (x['Race'] == 'Black') else 0, axis=1 )\n",
        "df['White_husband'] = df[ ['Relationship', 'Race'] ].apply(lambda x: 1 if (x['Relationship'] == 'Husband') & (x['Race'] == 'White') else 0, axis = 1)\n",
        "df['White_wife'] = df[ ['Relationship', 'Race'] ].apply(lambda x: 1 if (x['Relationship'] == 'Wife') & (x['Race'] == 'White') else 0, axis = 1)\n",
        "df['Black_wife'] = df[ ['Relationship', 'Race'] ].apply(lambda x: 1 if (x['Relationship'] == 'Wife') & (x['Race'] == 'Black') else 0, axis = 1)\n",
        "\n",
        "df['White'] = df['Race'].apply(lambda x: 1 if x == 'White' else 0)\n",
        "df['Black'] = df['Race'].apply(lambda x: 1 if x == 'Black' else 0)\n",
        "df['Other'] = df['Race'].apply(lambda x: 1 if (x!='White') & (x!='Black') else 0)\n",
        "df['Husband'] = df['Relationship'].apply(lambda x: 1  if x == 'Husband' else 0)\n",
        "df['Wife'] = df['Relationship'].apply(lambda x: 1 if x == 'Wife' else 0)\n",
        "\n",
        "df['Divorced'] = df['Martial Status'].apply(lambda x: 1 if x == 'Divorced' else 0)"
      ],
      "execution_count": 0,
      "outputs": []
    },
    {
      "cell_type": "markdown",
      "metadata": {
        "id": "33ucZfLhZGmo",
        "colab_type": "text"
      },
      "source": [
        "#Decision Tree ~83%"
      ]
    },
    {
      "cell_type": "code",
      "metadata": {
        "id": "hSMQfEcmW7Uj",
        "colab_type": "code",
        "outputId": "b571275d-cfcb-4dc9-f2aa-62602cdf7558",
        "colab": {
          "base_uri": "https://localhost:8080/",
          "height": 312
        }
      },
      "source": [
        "X = df [ get_feats(df) ].values\n",
        "y = df[ 'target_cat'].values\n",
        "\n",
        "train_and_predict(X, y, DecisionTreeClassifier(max_depth= 5))\n",
        "\n",
        "model = DecisionTreeClassifier(max_depth= 5)\n",
        "plot_learning_curve(model, X, y, cv=3, random_state=0, shuffle=True)"
      ],
      "execution_count": 0,
      "outputs": [
        {
          "output_type": "execute_result",
          "data": {
            "text/plain": [
              "<matplotlib.axes._subplots.AxesSubplot at 0x7f9ece00c0b8>"
            ]
          },
          "metadata": {
            "tags": []
          },
          "execution_count": 37
        },
        {
          "output_type": "display_data",
          "data": {
            "image/png": "[encoded data removed]",
            "text/plain": [
              "<Figure size 432x288 with 1 Axes>"
            ]
          },
          "metadata": {
            "tags": [],
            "needs_background": "light"
          }
        }
      ]
    },
    {
      "cell_type": "markdown",
      "metadata": {
        "id": "TUSh3WDwaUpx",
        "colab_type": "text"
      },
      "source": [
        "#Random Forest ~84%"
      ]
    },
    {
      "cell_type": "code",
      "metadata": {
        "id": "DAHSoPmGZooa",
        "colab_type": "code",
        "outputId": "c4958cb7-886b-4815-b028-ef9b3345bc2a",
        "colab": {
          "base_uri": "https://localhost:8080/",
          "height": 34
        }
      },
      "source": [
        "train_and_predict(X, y, RandomForestClassifier(max_depth= 5, n_estimators = 10, random_state=0))"
      ],
      "execution_count": 0,
      "outputs": [
        {
          "output_type": "execute_result",
          "data": {
            "text/plain": [
              "0.8443034087419388"
            ]
          },
          "metadata": {
            "tags": []
          },
          "execution_count": 38
        }
      ]
    },
    {
      "cell_type": "code",
      "metadata": {
        "id": "SQnlL94ndlM1",
        "colab_type": "code",
        "outputId": "c32838e7-c33d-4fac-d11e-4194e640b03b",
        "colab": {
          "base_uri": "https://localhost:8080/",
          "height": 312
        }
      },
      "source": [
        "model = RandomForestClassifier(max_depth= 5, n_estimators = 10, random_state=0)\n",
        "plot_learning_curve(model, X, y, cv=3, random_state=0, shuffle=True)"
      ],
      "execution_count": 0,
      "outputs": [
        {
          "output_type": "execute_result",
          "data": {
            "text/plain": [
              "<matplotlib.axes._subplots.AxesSubplot at 0x7f9ecdf572e8>"
            ]
          },
          "metadata": {
            "tags": []
          },
          "execution_count": 39
        },
        {
          "output_type": "display_data",
          "data": {
            "image/png": "[encoded data removed]",
            "text/plain": [
              "<Figure size 432x288 with 1 Axes>"
            ]
          },
          "metadata": {
            "tags": [],
            "needs_background": "light"
          }
        }
      ]
    },
    {
      "cell_type": "markdown",
      "metadata": {
        "id": "CspRYufVZOVV",
        "colab_type": "text"
      },
      "source": [
        "#XGBoost ~86%\n",
        "\n",
        "\n"
      ]
    },
    {
      "cell_type": "code",
      "metadata": {
        "id": "QK_wh9tvYnjq",
        "colab_type": "code",
        "outputId": "17c7fad8-f6a2-4a63-9eeb-7fe405f81516",
        "colab": {
          "base_uri": "https://localhost:8080/",
          "height": 34
        }
      },
      "source": [
        "xgb_params = {\n",
        "    'max_depth': 10, \n",
        "    'n_estimators': 100, \n",
        "}\n",
        "\n",
        "train_and_predict(X, y, xgb.XGBClassifier(**xgb_params ))"
      ],
      "execution_count": 0,
      "outputs": [
        {
          "output_type": "execute_result",
          "data": {
            "text/plain": [
              "0.8624219469751254"
            ]
          },
          "metadata": {
            "tags": []
          },
          "execution_count": 40
        }
      ]
    },
    {
      "cell_type": "code",
      "metadata": {
        "id": "0Li1-E-Yc4UY",
        "colab_type": "code",
        "outputId": "e34c93a5-4351-4ee7-a1e5-26c041003b17",
        "colab": {
          "base_uri": "https://localhost:8080/",
          "height": 312
        }
      },
      "source": [
        "model = xgb.XGBClassifier(random_state=0, n_estimators=100)\n",
        "plot_learning_curve(model, X, y, cv=3, random_state=0, shuffle=True)"
      ],
      "execution_count": 0,
      "outputs": [
        {
          "output_type": "execute_result",
          "data": {
            "text/plain": [
              "<matplotlib.axes._subplots.AxesSubplot at 0x7f9ecdebd278>"
            ]
          },
          "metadata": {
            "tags": []
          },
          "execution_count": 41
        },
        {
          "output_type": "display_data",
          "data": {
            "image/png": "[encoded data removed]",
            "text/plain": [
              "<Figure size 432x288 with 1 Axes>"
            ]
          },
          "metadata": {
            "tags": [],
            "needs_background": "light"
          }
        }
      ]
    },
    {
      "cell_type": "code",
      "metadata": {
        "id": "RQT0IZknIbNv",
        "colab_type": "code",
        "colab": {}
      },
      "source": [
        "df.to_csv('/content/drive/My Drive/Colab Notebooks/class_regr/data/train.adult_xgb.h5')"
      ],
      "execution_count": 0,
      "outputs": []
    },
    {
      "cell_type": "markdown",
      "metadata": {
        "id": "PoCu1YSo1uip",
        "colab_type": "text"
      },
      "source": [
        "#Parameter Optimization - Grid Random Search\n",
        "\n",
        "The best parameters according to Grid Search have been defined. However with 86,97 % error I don't consider it helpful as we already achieved 87 %."
      ]
    },
    {
      "cell_type": "code",
      "metadata": {
        "id": "wsWOoX592kpq",
        "colab_type": "code",
        "colab": {}
      },
      "source": [
        "feats = get_feats(df)\n",
        "\n",
        "X = df [ feats ]\n",
        "y = df[ 'target_cat']\n",
        "\n",
        "X_train, X_test, y_train, y_test = train_test_split(X, y, test_size=0.3)"
      ],
      "execution_count": 0,
      "outputs": []
    },
    {
      "cell_type": "code",
      "metadata": {
        "id": "Uja_h4CE11l3",
        "colab_type": "code",
        "outputId": "66aa0069-018c-44a3-8ab1-128ae6221a18",
        "colab": {
          "base_uri": "https://localhost:8080/",
          "height": 51
        }
      },
      "source": [
        "par_grid = [{\n",
        "    'n_estimators': [100,90],\n",
        "    'max_features': [20],\n",
        "    'max_depth':[5]\n",
        "}]\n",
        "\n",
        "xgb_model = xgb.XGBClassifier(random_state=2019)\n",
        "\n",
        "grid_searchf = GridSearchCV(xgb_model, par_grid, cv=5, scoring='accuracy', return_train_score=True)\n",
        "grid_searchf.fit(X,y)\n",
        "\n",
        "sc = grid_searchf.best_score_\n",
        "print('xgb error\" {}'.format(sc) )\n",
        "print('xgb parameter: {}'.format(grid_searchf.best_params_))"
      ],
      "execution_count": 0,
      "outputs": [
        {
          "output_type": "stream",
          "text": [
            "xgb error\" 0.8697522550815963\n",
            "xgb parameter: {'max_depth': 5, 'max_features': 20, 'n_estimators': 100}\n"
          ],
          "name": "stdout"
        }
      ]
    },
    {
      "cell_type": "code",
      "metadata": {
        "id": "4txxroIeCMfd",
        "colab_type": "code",
        "outputId": "b6c65b4b-0c94-4e4b-8c22-901af442fc41",
        "colab": {
          "base_uri": "https://localhost:8080/",
          "height": 312
        }
      },
      "source": [
        "plot_learning_curve(grid_searchf, X, y, cv=3, random_state=0, shuffle=True)"
      ],
      "execution_count": 0,
      "outputs": [
        {
          "output_type": "execute_result",
          "data": {
            "text/plain": [
              "<matplotlib.axes._subplots.AxesSubplot at 0x7f9ecc090b38>"
            ]
          },
          "metadata": {
            "tags": []
          },
          "execution_count": 88
        },
        {
          "output_type": "display_data",
          "data": {
            "image/png": "[encoded data removed]",
            "text/plain": [
              "<Figure size 432x288 with 1 Axes>"
            ]
          },
          "metadata": {
            "tags": [],
            "needs_background": "light"
          }
        }
      ]
    },
    {
      "cell_type": "markdown",
      "metadata": {
        "id": "s87tT9LVDLp4",
        "colab_type": "text"
      },
      "source": [
        "#Parameter Optimization - Hyperopt"
      ]
    },
    {
      "cell_type": "code",
      "metadata": {
        "id": "0O3666KE6E9P",
        "colab_type": "code",
        "outputId": "c1c09ccd-ed7b-49cf-f260-e25df38aa600",
        "colab": {
          "base_uri": "https://localhost:8080/",
          "height": 71
        }
      },
      "source": [
        "def objective(space):\n",
        "    \n",
        "    xgb_params = {\n",
        "        'max_depth': int(space['max_depth']),\n",
        "        'colsample_bytree': space['colsample_bytree'],\n",
        "        'learning_rate': space['learning_rate'],\n",
        "        'subsample': space['subsample'],\n",
        "        'random_state': int(space['random_state']),\n",
        "        'min_child_weight': int(space['min_child_weight']),\n",
        "        'reg_alpha': space['reg_alpha'],\n",
        "        'reg_lambda': space['reg_lambda'],\n",
        "        'n_estimators': 100,\n",
        "        'objective': 'reg:squarederror'\n",
        "    }\n",
        "    \n",
        "    model = xgb.XGBClassifier(**xgb_params)\n",
        "    model.fit(X_train, y_train)\n",
        "    y_pred = model.predict(X_test)\n",
        "    \n",
        "    score = accuracy_score(y_test, y_pred)\n",
        "    \n",
        "    return{'loss':score, 'status': STATUS_OK } #zwracamy score\n",
        "\n",
        "space ={\n",
        "    'max_depth': hp.quniform ('x_max_depth', 5, 20, 1), #q = wartosci dyskretne\n",
        "    'colsample_bytree': hp.uniform ('x_colsample_bytree', 0.8, 1.),\n",
        "    'learning_rate': hp.uniform ('x_learning_rate', 0.05, 0.2),\n",
        "    'subsample': hp.uniform ('x_subsample', 0.7, 1.),\n",
        "    'random_state': hp.quniform ('x_random_state', 0, 10000, 50),\n",
        "    'min_child_weight': hp.quniform ('x_min_child_weight', 1, 10, 1),\n",
        "    'reg_alpha': hp.loguniform ('x_reg_alpha', 0., 1.), #skala logarytmiczna\n",
        "    'reg_lambda': hp.uniform ('x_reg_lambda', 0.7, 1.),\n",
        "}\n",
        "\n",
        "\n",
        "trials = Trials()\n",
        "best_params = fmin(fn=objective,\n",
        "            space=space,\n",
        "            algo=partial(tpe.suggest, n_startup_jobs=1), #chcemy po pierwszej probie juz wyciagac wnioski\n",
        "            max_evals=30,\n",
        "            trials=trials)\n",
        "\n",
        "print(\"The best params: \", best_params)"
      ],
      "execution_count": 0,
      "outputs": [
        {
          "output_type": "stream",
          "text": [
            "100%|██████████| 30/30 [04:30<00:00,  9.00s/it, best loss: 0.8570989865902344]\n",
            "The best params:  {'x_colsample_bytree': 0.9502722860369262, 'x_learning_rate': 0.18407110008014643, 'x_max_depth': 19.0, 'x_min_child_weight': 3.0, 'x_random_state': 3950.0, 'x_reg_alpha': 1.8375178156099392, 'x_reg_lambda': 0.9342610383103357, 'x_subsample': 0.767561691965905}\n"
          ],
          "name": "stdout"
        }
      ]
    },
    {
      "cell_type": "code",
      "metadata": {
        "id": "3RfG-0szAkJd",
        "colab_type": "code",
        "outputId": "1cf5cdec-a63d-4e1c-a758-5aff73b85ca8",
        "colab": {
          "base_uri": "https://localhost:8080/",
          "height": 493
        }
      },
      "source": [
        "trials.best_trial"
      ],
      "execution_count": 0,
      "outputs": [
        {
          "output_type": "execute_result",
          "data": {
            "text/plain": [
              "{'book_time': datetime.datetime(2020, 4, 29, 12, 42, 10, 138000),\n",
              " 'exp_key': None,\n",
              " 'misc': {'cmd': ('domain_attachment', 'FMinIter_Domain'),\n",
              "  'idxs': {'x_colsample_bytree': [23],\n",
              "   'x_learning_rate': [23],\n",
              "   'x_max_depth': [23],\n",
              "   'x_min_child_weight': [23],\n",
              "   'x_random_state': [23],\n",
              "   'x_reg_alpha': [23],\n",
              "   'x_reg_lambda': [23],\n",
              "   'x_subsample': [23]},\n",
              "  'tid': 23,\n",
              "  'vals': {'x_colsample_bytree': [0.9502722860369262],\n",
              "   'x_learning_rate': [0.18407110008014643],\n",
              "   'x_max_depth': [19.0],\n",
              "   'x_min_child_weight': [3.0],\n",
              "   'x_random_state': [3950.0],\n",
              "   'x_reg_alpha': [1.8375178156099392],\n",
              "   'x_reg_lambda': [0.9342610383103357],\n",
              "   'x_subsample': [0.767561691965905]},\n",
              "  'workdir': None},\n",
              " 'owner': None,\n",
              " 'refresh_time': datetime.datetime(2020, 4, 29, 12, 42, 21, 991000),\n",
              " 'result': {'loss': 0.8570989865902344, 'status': 'ok'},\n",
              " 'spec': None,\n",
              " 'state': 2,\n",
              " 'tid': 23,\n",
              " 'version': 0}"
            ]
          },
          "metadata": {
            "tags": []
          },
          "execution_count": 83
        }
      ]
    },
    {
      "cell_type": "code",
      "metadata": {
        "id": "9Dt5d5wt75Bq",
        "colab_type": "code",
        "outputId": "4be0f49d-9329-4342-84a9-96cc1215d660",
        "colab": {
          "base_uri": "https://localhost:8080/",
          "height": 34
        }
      },
      "source": [
        "#Let's try to train \n",
        "\n",
        "xgb_params = { 'colsample_bytree': 0.9502722860369262, \n",
        "              'learning_rate': 0.18407110008014643, \n",
        "              'max_depth': 19, \n",
        "              'min_child_weight': 3, \n",
        "              'random_state': 3950, \n",
        "              'reg_alpha': 1.8375178156099392, \n",
        "              'reg_lambda': 0.9342610383103357, \n",
        "              'subsample': 0.767561691965905\n",
        "\n",
        "}\n",
        "\n",
        "train_and_predict(X, y, xgb.XGBClassifier(**xgb_params ))"
      ],
      "execution_count": 0,
      "outputs": [
        {
          "output_type": "execute_result",
          "data": {
            "text/plain": [
              "0.8644692394308527"
            ]
          },
          "metadata": {
            "tags": []
          },
          "execution_count": 85
        }
      ]
    },
    {
      "cell_type": "code",
      "metadata": {
        "id": "4aESYxzCAQz3",
        "colab_type": "code",
        "outputId": "9f577a81-2c86-46ac-c593-7b8f8909c887",
        "colab": {
          "base_uri": "https://localhost:8080/",
          "height": 312
        }
      },
      "source": [
        "model = xgb.XGBClassifier(**xgb_params)\n",
        "plot_learning_curve(model, X, y, cv=3, random_state=0, shuffle=True)"
      ],
      "execution_count": 0,
      "outputs": [
        {
          "output_type": "execute_result",
          "data": {
            "text/plain": [
              "<matplotlib.axes._subplots.AxesSubplot at 0x7f9ecc21db38>"
            ]
          },
          "metadata": {
            "tags": []
          },
          "execution_count": 87
        },
        {
          "output_type": "display_data",
          "data": {
            "image/png": "[encoded data removed]",
            "text/plain": [
              "<Figure size 432x288 with 1 Axes>"
            ]
          },
          "metadata": {
            "tags": [],
            "needs_background": "light"
          }
        }
      ]
    },
    {
      "cell_type": "code",
      "metadata": {
        "id": "cNy250GgBEBq",
        "colab_type": "code",
        "colab": {}
      },
      "source": [
        ""
      ],
      "execution_count": 0,
      "outputs": []
    }
  ]
}