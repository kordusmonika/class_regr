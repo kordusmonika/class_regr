{
  "nbformat": 4,
  "nbformat_minor": 0,
  "metadata": {
    "colab": {
      "name": "Adults3.ipynb",
      "provenance": [],
      "collapsed_sections": [],
      "mount_file_id": "1tykH2APJEILgV-nSIiro85f03eGsOmwa",
      "authorship_tag": "ABX9TyMWrysPfZu7CSUG5oegdyHK",
      "include_colab_link": true
    },
    "kernelspec": {
      "name": "python3",
      "display_name": "Python 3"
    }
  },
  "cells": [
    {
      "cell_type": "markdown",
      "metadata": {
        "id": "view-in-github",
        "colab_type": "text"
      },
      "source": [
        "<a href=\"https://colab.research.google.com/github/kordusmonika/class_regr/blob/master/Adults3.ipynb\" target=\"_parent\"><img src=\"https://colab.research.google.com/assets/colab-badge.svg\" alt=\"Open In Colab\"/></a>"
      ]
    },
    {
      "cell_type": "code",
      "metadata": {
        "id": "hSsp-H3de4ZK",
        "colab_type": "code",
        "colab": {}
      },
      "source": [
        "!pip install qgrid\n",
        "!pip install --upgrade tables\n",
        "!pip install ensemble\n",
        "!pip install scikit-plot"
      ],
      "execution_count": 0,
      "outputs": []
    },
    {
      "cell_type": "code",
      "metadata": {
        "id": "ajkLuCxwe_TJ",
        "colab_type": "code",
        "colab": {}
      },
      "source": [
        "import pandas as pd\n",
        "import numpy as np\n",
        "np.random.seed(2019)\n",
        "\n",
        "from sklearn.metrics import accuracy_score  \n",
        "from sklearn.model_selection import train_test_split\n",
        "\n",
        "from sklearn.dummy import DummyClassifier\n",
        "from sklearn.linear_model import LogisticRegression\n",
        "from sklearn.tree import DecisionTreeClassifier\n",
        "from sklearn.ensemble import RandomForestClassifier \n",
        "\n",
        "from scikitplot.estimators import plot_learning_curve\n",
        "\n",
        "import xgboost as xgb\n",
        "\n",
        "from functools import partial\n",
        "from hyperopt import hp, fmin, tpe, STATUS_OK, Trials\n",
        "from sklearn.model_selection import GridSearchCV\n",
        "\n",
        "from sklearn.model_selection import StratifiedKFold\n",
        "\n",
        "import matplotlib.pyplot as plt\n",
        "import seaborn as sns\n",
        "%matplotlib inline"
      ],
      "execution_count": 0,
      "outputs": []
    },
    {
      "cell_type": "code",
      "metadata": {
        "id": "uWCBScw_fDU6",
        "colab_type": "code",
        "colab": {
          "base_uri": "https://localhost:8080/",
          "height": 34
        },
        "outputId": "91f0a881-e83e-42d8-f9ce-8242405e208a"
      },
      "source": [
        "cd /content/drive/My Drive/Colab Notebooks/class_regr/data"
      ],
      "execution_count": 3,
      "outputs": [
        {
          "output_type": "stream",
          "text": [
            "/content/drive/My Drive/Colab Notebooks/class_regr/data\n"
          ],
          "name": "stdout"
        }
      ]
    },
    {
      "cell_type": "code",
      "metadata": {
        "id": "Q0Xd9IgTfHVG",
        "colab_type": "code",
        "colab": {}
      },
      "source": [
        "df = pd.read_hdf('/content/drive/My Drive/Colab Notebooks/class_regr/data/train.adult (1).h5')"
      ],
      "execution_count": 0,
      "outputs": []
    },
    {
      "cell_type": "code",
      "metadata": {
        "id": "8-_ZYo97fOJj",
        "colab_type": "code",
        "colab": {}
      },
      "source": [
        "def check_missing_values():\n",
        "  for column in df.columns:\n",
        "    missing = column, df[column].isnull().sum()\n",
        "    if missing[1] == 0:continue\n",
        "\n",
        "    print(missing)\n",
        "\n",
        "def get_feats(df):\n",
        "  black_list = ['Target', 'Target_cat', 'fnlwgt']\n",
        "  feats = df.select_dtypes(include=[np.number] ).columns\n",
        "  feats = [feat for feat in feats if feat not in black_list]\n",
        "\n",
        "  return feats\n",
        "\n",
        "def train_and_predict(X, y, model):\n",
        "  X_train, X_test, y_train, y_test = train_test_split(X, y, test_size=0.3)\n",
        "\n",
        "  model.fit(X_train, y_train)\n",
        "  y_pred = model.predict(X_test)\n",
        "\n",
        "  return accuracy_score(y_test, y_pred)\n"
      ],
      "execution_count": 0,
      "outputs": []
    },
    {
      "cell_type": "code",
      "metadata": {
        "id": "VyWkRumPfVtp",
        "colab_type": "code",
        "colab": {}
      },
      "source": [
        "df = df.fillna(-1)"
      ],
      "execution_count": 0,
      "outputs": []
    },
    {
      "cell_type": "code",
      "metadata": {
        "id": "LJVCaVHjfYX3",
        "colab_type": "code",
        "colab": {}
      },
      "source": [
        "cat_feats = df.select_dtypes(include=[np.object] ).columns\n",
        "\n",
        "for cat_feat in cat_feats:\n",
        "  df['{0}_cat'.format(cat_feat)] = pd.factorize( df[cat_feat] )[0]"
      ],
      "execution_count": 0,
      "outputs": []
    },
    {
      "cell_type": "markdown",
      "metadata": {
        "id": "bG3eve3ggPkb",
        "colab_type": "text"
      },
      "source": [
        "#Feature Engineering"
      ]
    },
    {
      "cell_type": "code",
      "metadata": {
        "id": "obZIBs3zgOZS",
        "colab_type": "code",
        "colab": {}
      },
      "source": [
        "df['Black_husband'] = df[ ['Relationship','Race'] ].apply(lambda x: 1 if (x['Relationship'] == 'Husband') & (x['Race'] == 'Black') else 0, axis=1 )\n",
        "df['White_husband'] = df[ ['Relationship', 'Race'] ].apply(lambda x: 1 if (x['Relationship'] == 'Husband') & (x['Race'] == 'White') else 0, axis = 1)\n",
        "df['White_wife'] = df[ ['Relationship', 'Race'] ].apply(lambda x: 1 if (x['Relationship'] == 'Wife') & (x['Race'] == 'White') else 0, axis = 1)\n",
        "df['Black_wife'] = df[ ['Relationship', 'Race'] ].apply(lambda x: 1 if (x['Relationship'] == 'Wife') & (x['Race'] == 'Black') else 0, axis = 1)\n",
        "\n",
        "df['White'] = df['Race'].apply(lambda x: 1 if x == 'White' else 0)\n",
        "df['Black'] = df['Race'].apply(lambda x: 1 if x == 'Black' else 0)\n",
        "df['Other'] = df['Race'].apply(lambda x: 1 if (x!='White') & (x!='Black') else 0)\n",
        "df['Husband'] = df['Relationship'].apply(lambda x: 1  if x == 'Husband' else 0)\n",
        "df['Wife'] = df['Relationship'].apply(lambda x: 1 if x == 'Wife' else 0)\n",
        "df['Other_race']=df['Race'].apply(lambda x: 1 if  (x!='White') & (x!='Black') else 0)\n",
        "df['Divorced'] = df['Martial Status'].apply(lambda x: 1 if x == 'Divorced' else 0)\n",
        "\n",
        "df['Married-civ-spouse']=df['Martial Status'].apply(lambda x: 1 if x=='Married-civ-spouse' else 0)\n",
        "df['Never-married']=df['Martial Status'].apply(lambda x: 1 if x=='Never-married' else 0)\n",
        "\n",
        "df['Country_us']=df['Country'].apply(lambda x: 1 if x =='United-States' else 0)\n",
        "df['Country_mex']=df['Country'].apply(lambda x: 1 if x =='Mexico' else 0)\n",
        "df['Country_other']=df['Country'].apply(lambda x: 1 if (x !='Mexico') & (x!='United-States') else 0)\n",
        "\n",
        "df['Occ_white']=pd.factorize(df[['Occupation_cat','White']].apply(lambda x: '{0}-{1}'.format(x['Occupation_cat'], x['White']),axis=1))[0]\n",
        "df['Occ_other']=pd.factorize(df[['Occupation_cat','Other_race']].apply(lambda x: '{0}-{1}'.format(x['Occupation_cat'], x['Other_race']),axis=1))[0]\n",
        "    \n",
        "df['Productive_age']=df['Age'].apply(lambda x: 1 if (x >=20) & (x<=60) else 0)\n",
        "df['Master_bachelor']=df['Education'].apply(lambda x: 1 if (x =='Bachelors') | (x=='Masters') else 0)\n",
        "df['Doctor_prof']=df['Education'].apply(lambda x: 1 if (x =='Prof-school') | (x=='Doctorate') else 0)\n",
        "\n",
        "df['Occ_sex']=pd.factorize(df[['Occupation_cat','Sex']].apply(lambda x: '{0}-{1}'.format(x['Occupation_cat'], x['Sex']),axis=1))[0]\n",
        "df['Occ_rel_sex']=pd.factorize(df[['Occupation_cat','Relationship_cat','Sex']].apply(lambda x: '{0}-{1}-{2}'.format(x['Occupation_cat'], x['Relationship_cat'],x['Sex']),axis=1))[0]\n",
        "\n",
        "df['Married_productive']=pd.factorize(df[['Married-civ-spouse','Productive_age']].apply(lambda x: '{0}-{1}'.format(x['Married-civ-spouse'], x['Productive_age']),axis=1))[0]\n"
      ],
      "execution_count": 0,
      "outputs": []
    },
    {
      "cell_type": "code",
      "metadata": {
        "id": "GFHXBLHBgOWH",
        "colab_type": "code",
        "colab": {
          "base_uri": "https://localhost:8080/",
          "height": 153
        },
        "outputId": "a062936b-ccfa-4365-9cef-52f458cabf4a"
      },
      "source": [
        "df.columns"
      ],
      "execution_count": 22,
      "outputs": [
        {
          "output_type": "execute_result",
          "data": {
            "text/plain": [
              "Index(['Age', 'Workclass', 'fnlwgt', 'Education', 'Education-Num',\n",
              "       'Martial Status', 'Occupation', 'Relationship', 'Race', 'Sex',\n",
              "       'Capital Gain', 'Capital Loss', 'Hours per week', 'Country', 'Target',\n",
              "       'Workclass_cat', 'Education_cat', 'Martial Status_cat',\n",
              "       'Occupation_cat', 'Relationship_cat', 'Race_cat', 'Country_cat',\n",
              "       'Target_cat', 'Black_husband', 'White_husband', 'White_wife',\n",
              "       'Black_wife', 'White', 'Black', 'Other', 'Husband', 'Wife', 'Divorced'],\n",
              "      dtype='object')"
            ]
          },
          "metadata": {
            "tags": []
          },
          "execution_count": 22
        }
      ]
    },
    {
      "cell_type": "markdown",
      "metadata": {
        "id": "Kq3OASaGgnr7",
        "colab_type": "text"
      },
      "source": [
        "#Basic XGBoost "
      ]
    },
    {
      "cell_type": "code",
      "metadata": {
        "id": "dkydN72Vf45r",
        "colab_type": "code",
        "colab": {
          "base_uri": "https://localhost:8080/",
          "height": 34
        },
        "outputId": "43b9d318-2ab9-4b6b-e1a7-833ca72e58d2"
      },
      "source": [
        "X = df [ get_feats(df) ].values\n",
        "y = df[ 'Target_cat'].values\n",
        "\n",
        "xgb_params = {\n",
        "    'max_depth': 10, \n",
        "    'n_estimators': 100, \n",
        "}\n",
        "\n",
        "train_and_predict(X, y, xgb.XGBClassifier(**xgb_params ))"
      ],
      "execution_count": 26,
      "outputs": [
        {
          "output_type": "execute_result",
          "data": {
            "text/plain": [
              "0.8752175248234211"
            ]
          },
          "metadata": {
            "tags": []
          },
          "execution_count": 26
        }
      ]
    },
    {
      "cell_type": "markdown",
      "metadata": {
        "id": "sMYO3iUFhJet",
        "colab_type": "text"
      },
      "source": [
        "#Hyperoptimisation"
      ]
    },
    {
      "cell_type": "code",
      "metadata": {
        "id": "lhsR2R0wgOcm",
        "colab_type": "code",
        "colab": {}
      },
      "source": [
        "def get_feats(df):\n",
        "  black_list = ['Target', 'Target_cat', 'fnlwgt']\n",
        "  feats = df.select_dtypes(include=[np.number] ).columns\n",
        "  feats = [feat for feat in feats if feat not in black_list]\n",
        "\n",
        "  return feats\n",
        "\n",
        "def get_X_y(df, feats=None):\n",
        "  if feats is None:\n",
        "    feats = get_feats(df)\n",
        "\n",
        "  X = df[feats].values\n",
        "  y = df[ 'Target_cat'].values\n",
        "\n",
        "  return X,y\n",
        "\n",
        "def model_train_predict(X, y, model, success_metric = accuracy_score ):\n",
        "  cv = StratifiedKFold(n_splits=4, random_state=0, shuffle=True)\n",
        "\n",
        "  scores = []\n",
        "  for train_idx, test_idx in cv.split(X,y):\n",
        "    model.fit(X[train_idx], y[train_idx])\n",
        "    y_pred = model.predict(X[test_idx])\n",
        "\n",
        "    score = success_metric(y[test_idx], y_pred)\n",
        "    scores.append(score)\n",
        "\n",
        "  return np.mean(scores), np.std(scores)"
      ],
      "execution_count": 0,
      "outputs": []
    },
    {
      "cell_type": "markdown",
      "metadata": {
        "id": "vQEv9NBXogQp",
        "colab_type": "text"
      },
      "source": [
        "#Basic XGB (with StratifiedKFold) and 36 features ~86,7%"
      ]
    },
    {
      "cell_type": "code",
      "metadata": {
        "id": "kzW3MY50gOfu",
        "colab_type": "code",
        "colab": {
          "base_uri": "https://localhost:8080/",
          "height": 34
        },
        "outputId": "b09bf12d-9b17-4195-8f0b-80458518b51a"
      },
      "source": [
        "X,y = get_X_y(df)\n",
        "\n",
        "modelxgb = xgb.XGBClassifier(\n",
        "    max_depth=5,\n",
        "    random_state=2019,\n",
        "    n_estimators=70,\n",
        "    max_features=15,\n",
        ")\n",
        "\n",
        "model_train_predict(X, y, modelxgb)"
      ],
      "execution_count": 36,
      "outputs": [
        {
          "output_type": "execute_result",
          "data": {
            "text/plain": [
              "(0.8677559774937247, 0.0015242367939823133)"
            ]
          },
          "metadata": {
            "tags": []
          },
          "execution_count": 36
        }
      ]
    },
    {
      "cell_type": "code",
      "metadata": {
        "id": "PcDoGtPYgOi1",
        "colab_type": "code",
        "colab": {
          "base_uri": "https://localhost:8080/",
          "height": 34
        },
        "outputId": "a1d27263-a8f8-4d04-f590-3b230e6aeaac"
      },
      "source": [
        "X.shape"
      ],
      "execution_count": 37,
      "outputs": [
        {
          "output_type": "execute_result",
          "data": {
            "text/plain": [
              "(32561, 36)"
            ]
          },
          "metadata": {
            "tags": []
          },
          "execution_count": 37
        }
      ]
    },
    {
      "cell_type": "code",
      "metadata": {
        "id": "INvH4KTLgOmB",
        "colab_type": "code",
        "colab": {
          "base_uri": "https://localhost:8080/",
          "height": 71
        },
        "outputId": "9ee2a987-4adf-4367-addc-7a4497b24f0d"
      },
      "source": [
        "def objective(space):\n",
        "\n",
        "  xgb_params={\n",
        "      'max_depth': int(space['max_depth']),\n",
        "        'colsample_bytree': space['colsample_bytree'],\n",
        "        'learning_rate': space['learning_rate'],\n",
        "        'subsample': space['subsample'],\n",
        "        'random_state': int(space['random_state']),\n",
        "        'min_child_weight': int(space['min_child_weight']),\n",
        "        'reg_alpha': space['reg_alpha'],\n",
        "        'reg_lambda': space['reg_lambda'],\n",
        "        'n_estimators': 100,\n",
        "        'objective': 'reg:squarederror'\n",
        "      }\n",
        "\n",
        "  \n",
        "  cv = StratifiedKFold(n_splits=4, random_state=0, shuffle=True)\n",
        "\n",
        "  model = xgb.XGBClassifier(**xgb_params)    \n",
        "  for train_idx, test_idx in cv.split(X,y):\n",
        "    model.fit(X[train_idx], y[train_idx])\n",
        "    y_pred = model.predict(X[test_idx])\n",
        "      \n",
        "\n",
        "    score = accuracy_score(y[test_idx], y_pred)\n",
        "\n",
        "    return {'loss':score, 'status': STATUS_OK } #zwracamy score\n",
        "\n",
        "space ={\n",
        "    'max_depth': hp.quniform ('x_max_depth', 5, 20, 1), #q = wartosci dyskretne\n",
        "    'colsample_bytree': hp.uniform ('x_colsample_bytree', 0.8, 1.),\n",
        "    'learning_rate': hp.uniform ('x_learning_rate', 0.05, 0.2),\n",
        "    'subsample': hp.uniform ('x_subsample', 0.7, 1.),\n",
        "    'random_state': hp.quniform ('x_random_state', 0, 10000, 50),\n",
        "    'min_child_weight': hp.quniform ('x_min_child_weight', 1, 10, 1),\n",
        "    'reg_alpha': hp.loguniform ('x_reg_alpha', 0., 1.), #skala logarytmiczna\n",
        "    'reg_lambda': hp.uniform ('x_reg_lambda', 0.7, 1.),\n",
        "}\n",
        "\n",
        "trials = Trials()\n",
        "\n",
        "best_params = fmin(fn=objective,\n",
        "                   space = space,\n",
        "                   algo = tpe.suggest,\n",
        "                   trials = trials,\n",
        "                   max_evals=30\n",
        ")\n",
        "\n",
        "print('The best params: ', best_params)"
      ],
      "execution_count": 45,
      "outputs": [
        {
          "output_type": "stream",
          "text": [
            "100%|██████████| 30/30 [06:09<00:00, 12.30s/it, best loss: 0.8578798673381648]\n",
            "The best params:  {'x_colsample_bytree': 0.8794490925129194, 'x_learning_rate': 0.19520817380013475, 'x_max_depth': 17.0, 'x_min_child_weight': 7.0, 'x_random_state': 9850.0, 'x_reg_alpha': 1.6539183863907596, 'x_reg_lambda': 0.9330596512115039, 'x_subsample': 0.7748396470719097}\n"
          ],
          "name": "stdout"
        }
      ]
    },
    {
      "cell_type": "markdown",
      "metadata": {
        "id": "fqkztjPkuDTR",
        "colab_type": "text"
      },
      "source": [
        "After tuning the parameters we achieved merely ~85,78 % which is less than our basic XGBoost model"
      ]
    },
    {
      "cell_type": "code",
      "metadata": {
        "id": "-G4uVWFPgOpM",
        "colab_type": "code",
        "colab": {
          "base_uri": "https://localhost:8080/",
          "height": 312
        },
        "outputId": "e4b8649e-26fd-498a-fe85-1ddc01d7a4e9"
      },
      "source": [
        "model = xgb.XGBClassifier(**xgb_params)\n",
        "plot_learning_curve(model, X, y, cv=4, random_state=0, shuffle=True)"
      ],
      "execution_count": 46,
      "outputs": [
        {
          "output_type": "execute_result",
          "data": {
            "text/plain": [
              "<matplotlib.axes._subplots.AxesSubplot at 0x7f78ec0e5e10>"
            ]
          },
          "metadata": {
            "tags": []
          },
          "execution_count": 46
        },
        {
          "output_type": "display_data",
          "data": {
            "image/png": "[encoded data removed]",
            "text/plain": [
              "<Figure size 432x288 with 1 Axes>"
            ]
          },
          "metadata": {
            "tags": [],
            "needs_background": "light"
          }
        }
      ]
    },
    {
      "cell_type": "code",
      "metadata": {
        "id": "MgjsVkAEgOsQ",
        "colab_type": "code",
        "colab": {}
      },
      "source": [
        ""
      ],
      "execution_count": 0,
      "outputs": []
    },
    {
      "cell_type": "code",
      "metadata": {
        "id": "vz9WaYltgOvW",
        "colab_type": "code",
        "colab": {}
      },
      "source": [
        ""
      ],
      "execution_count": 0,
      "outputs": []
    },
    {
      "cell_type": "code",
      "metadata": {
        "id": "h4bYg5OZf5PQ",
        "colab_type": "code",
        "colab": {}
      },
      "source": [
        ""
      ],
      "execution_count": 0,
      "outputs": []
    },
    {
      "cell_type": "code",
      "metadata": {
        "id": "oaOf7j2UhLfl",
        "colab_type": "code",
        "colab": {}
      },
      "source": [
        ""
      ],
      "execution_count": 0,
      "outputs": []
    }
  ]
}